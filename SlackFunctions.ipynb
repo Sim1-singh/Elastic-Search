{
  "cells": [
    {
      "cell_type": "code",
      "execution_count": null,
      "metadata": {
        "colab": {
          "base_uri": "https://localhost:8080/"
        },
        "id": "DYwKuVgmx_mw",
        "outputId": "c29a2e11-ba3a-40c0-c61a-fda52bacede9"
      },
      "outputs": [
        {
          "name": "stdout",
          "output_type": "stream",
          "text": [
            "Collecting slack_sdk\n",
            "  Downloading slack_sdk-3.27.1-py2.py3-none-any.whl (285 kB)\n",
            "\u001b[2K     \u001b[90m━━━━━━━━━━━━━━━━━━━━━━━━━━━━━━━━━━━━━━━━\u001b[0m \u001b[32m285.7/285.7 kB\u001b[0m \u001b[31m4.7 MB/s\u001b[0m eta \u001b[36m0:00:00\u001b[0m\n",
            "\u001b[?25hInstalling collected packages: slack_sdk\n",
            "Successfully installed slack_sdk-3.27.1\n"
          ]
        }
      ],
      "source": [
        "pip install slack_sdk\n"
      ]
    },
    {
      "cell_type": "code",
      "execution_count": null,
      "metadata": {
        "id": "rYFDr3lMZ0Yx"
      },
      "outputs": [],
      "source": [
        "import os\n",
        "\n",
        "os.environ['SLACK_API_TOKEN'] = 'API_token'"
      ]
    },
    {
      "cell_type": "code",
      "execution_count": null,
      "metadata": {
        "colab": {
          "base_uri": "https://localhost:8080/"
        },
        "id": "AdyCLvs_tnAh",
        "outputId": "6856d8d9-48a6-42ea-d85f-1fb485af4df5"
      },
      "outputs": [
        {
          "name": "stdout",
          "output_type": "stream",
          "text": [
            "Thread IDs: ['1710086335.848749', '1710086240.466259', '1710086097.297639', '1710085431.229469', '1710085410.896389', '1710084583.139509', '1710084265.418879', '1709888994.347749', '1708844022.981139', '1708445241.550649', '1708293298.773339', '1708293055.349369', '1708292805.484719', '1708292642.441469', '1708292519.078869', '1708292403.841829']\n"
          ]
        }
      ],
      "source": [
        "import os\n",
        "from slack_sdk import WebClient\n",
        "from slack_sdk.errors import SlackApiError\n",
        "\n",
        "def get_all_threads(channel_id, token):\n",
        "\n",
        "    client = WebClient(token=token)\n",
        "\n",
        "    try:\n",
        "        # Call the conversations.history method to fetch all messages in the channel\n",
        "        result = client.conversations_history(channel=channel_id)\n",
        "\n",
        "        # Filter out thread messages from the result\n",
        "        threads = [msg for msg in result['messages'] if 'thread_ts' in msg]\n",
        "\n",
        "        # Extract thread IDs from the messages\n",
        "        thread_ids = [thread['ts'] for thread in threads]\n",
        "\n",
        "        return thread_ids\n",
        "\n",
        "    except SlackApiError as e:\n",
        "        print(f\"Error: {e.response['error']}\")\n",
        "\n",
        "# Example usage:\n",
        "channel_id = \"C06BZ5PM8SF\"\n",
        "slack_token = \"API_token\"\n",
        "\n",
        "thread_ids = get_all_threads(channel_id, slack_token)\n",
        "print(\"Thread IDs:\", thread_ids)\n"
      ]
    },
    {
      "cell_type": "code",
      "execution_count": null,
      "metadata": {
        "colab": {
          "base_uri": "https://localhost:8080/"
        },
        "id": "va_gKQhrvj_5",
        "outputId": "fdf363a0-ee96-41a3-d6aa-a04cee76db42"
      },
      "outputs": [
        {
          "name": "stdout",
          "output_type": "stream",
          "text": [
            "Messages in Thread: [{'user': 'U06CMUF9U8G', 'type': 'message', 'ts': '1710086335.848749', 'client_msg_id': '30d1d293-7a45-41f9-9d60-dcfcc2e99b65', 'text': 'Hi <@U06BZ5ZJXGA>', 'team': 'T06BSG4QL86', 'thread_ts': '1710086335.848749', 'reply_count': 1, 'reply_users_count': 1, 'latest_reply': '1710086346.869219', 'reply_users': ['U06BZ5ZJXGA'], 'is_locked': False, 'subscribed': False, 'blocks': [{'type': 'rich_text', 'block_id': 'FkhC4', 'elements': [{'type': 'rich_text_section', 'elements': [{'type': 'text', 'text': 'Hi '}, {'type': 'user', 'user_id': 'U06BZ5ZJXGA'}]}]}]}, {'user': 'U06BZ5ZJXGA', 'type': 'message', 'ts': '1710086346.869219', 'bot_id': 'B06BJKFR3PZ', 'app_id': 'A06BZ5ZA7JN', 'text': 'Subject: Revolutionize Your Content Strategy with Alchemyst\\n\\nDear Alex,\\n\\nI hope this email finds you well. I am Maya, Market Acquisition Specialist at Alchemyst, a cutting-edge content marketing platform that is transforming the way businesses create, manage, and distribute content at scale.\\n\\nAt Alchemyst, we leverage the power of AI to analyze content performance and provide actionable insights to improve content quality and drive better results. Our platform has a proven track record of helping businesses like yours achieve their content marketing goals. For instance, we recently collaborated with a leading e-commerce company to create compelling product descriptions that resulted in a 20% increase in sales. Additionally, we have experience in crafting engaging blog posts and social media content that drive organic traffic and user engagement.\\n\\nOur collective goals align with yours in optimizing content strategies to drive tangible outcomes. I am confident that Alchemyst can be a valuable asset to PepperContent in achieving your content marketing objectives.\\n\\nI would love the opportunity to discuss how Alchemyst can specifically benefit PepperContent and assist in reaching your content marketing goals. Could we schedule a brief call or meeting to further explore this potential partnership?\\n\\nThank you for considering Alchemyst as a solution for your content marketing needs. I look forward to the possibility of working together.\\n\\nBest regards,\\n\\nMaya\\nMarket Acquisition Specialist\\nAlchemyst', 'team': 'T06BSG4QL86', 'bot_profile': {'id': 'B06BJKFR3PZ', 'deleted': False, 'name': 'Maya', 'updated': 1703930991, 'app_id': 'A06BZ5ZA7JN', 'icons': {'image_36': 'https://avatars.slack-edge.com/2023-12-30/6392686822119_ce7a6fa53657fb06f4f8_36.jpg', 'image_48': 'https://avatars.slack-edge.com/2023-12-30/6392686822119_ce7a6fa53657fb06f4f8_48.jpg', 'image_72': 'https://avatars.slack-edge.com/2023-12-30/6392686822119_ce7a6fa53657fb06f4f8_72.jpg'}, 'team_id': 'T06BSG4QL86'}, 'thread_ts': '1710086335.848749', 'parent_user_id': 'U06CMUF9U8G', 'blocks': [{'type': 'rich_text', 'block_id': 'b710h', 'elements': [{'type': 'rich_text_section', 'elements': [{'type': 'text', 'text': 'Subject: Revolutionize Your Content Strategy with Alchemyst\\n\\nDear Alex,\\n\\nI hope this email finds you well. I am Maya, Market Acquisition Specialist at Alchemyst, a cutting-edge content marketing platform that is transforming the way businesses create, manage, and distribute content at scale.\\n\\nAt Alchemyst, we leverage the power of AI to analyze content performance and provide actionable insights to improve content quality and drive better results. Our platform has a proven track record of helping businesses like yours achieve their content marketing goals. For instance, we recently collaborated with a leading e-commerce company to create compelling product descriptions that resulted in a 20% increase in sales. Additionally, we have experience in crafting engaging blog posts and social media content that drive organic traffic and user engagement.\\n\\nOur collective goals align with yours in optimizing content strategies to drive tangible outcomes. I am confident that Alchemyst can be a valuable asset to PepperContent in achieving your content marketing objectives.\\n\\nI would love the opportunity to discuss how Alchemyst can specifically benefit PepperContent and assist in reaching your content marketing goals. Could we schedule a brief call or meeting to further explore this potential partnership?\\n\\nThank you for considering Alchemyst as a solution for your content marketing needs. I look forward to the possibility of working together.\\n\\nBest regards,\\n\\nMaya\\nMarket Acquisition Specialist\\nAlchemyst'}]}]}]}]\n"
          ]
        }
      ],
      "source": [
        "import os\n",
        "from slack_sdk import WebClient\n",
        "from slack_sdk.errors import SlackApiError\n",
        "\n",
        "def get_messages_in_thread(channel_id, thread_id, token):\n",
        "    client = WebClient(token=token)\n",
        "    try:\n",
        "        result = client.conversations_replies(channel=channel_id, ts=thread_id)\n",
        "        messages = result['messages']\n",
        "        return messages\n",
        "    except SlackApiError as e:\n",
        "        print(f\"Error: {e.response['error']}\")\n",
        "\n",
        "\n",
        "channel_id = \"C06BZ5PM8SF\"\n",
        "thread_id = \"1710086335.848749\"\n",
        "slack_token = \"API_token\"\n",
        "\n",
        "thread_messages = get_messages_in_thread(channel_id, thread_id, slack_token)\n",
        "print(\"Messages in Thread:\", thread_messages)\n"
      ]
    },
    {
      "cell_type": "code",
      "execution_count": null,
      "metadata": {
        "colab": {
          "base_uri": "https://localhost:8080/"
        },
        "id": "aQwis8qdzth6",
        "outputId": "980b588e-f5a2-4c9e-af02-0197b36f8efb"
      },
      "outputs": [
        {
          "name": "stdout",
          "output_type": "stream",
          "text": [
            "Message sent: True\n"
          ]
        }
      ],
      "source": [
        "import os\n",
        "from slack_sdk import WebClient\n",
        "from slack_sdk.errors import SlackApiError\n",
        "\n",
        "def send_message_to_thread(channel_id, thread_id, message, token):\n",
        "    client = WebClient(token=token)\n",
        "    try:\n",
        "        response = client.chat_postMessage(channel=channel_id, thread_ts=thread_id, text=message)\n",
        "        return response\n",
        "    except SlackApiError as e:\n",
        "        print(f\"Error: {e.response['error']}\")\n",
        "\n",
        "\n",
        "channel_id = \"C06BZ5PM8SF\"\n",
        "thread_id = \"1710086335.848749\"\n",
        "message = \"Hello from the alchemyst!\"\n",
        "slack_token = \"API_token\"\n",
        "\n",
        "response = send_message_to_thread(channel_id, thread_id, message, slack_token)\n",
        "print(\"Message sent:\", response['ok'])\n"
      ]
    },
    {
      "cell_type": "code",
      "execution_count": null,
      "metadata": {
        "colab": {
          "base_uri": "https://localhost:8080/"
        },
        "id": "H9ZNJLhw1eAE",
        "outputId": "3c47e9e4-8651-486e-cfa6-f715752d6efe"
      },
      "outputs": [
        {
          "name": "stdout",
          "output_type": "stream",
          "text": [
            "Collecting slack_bolt\n",
            "  Downloading slack_bolt-1.18.1-py2.py3-none-any.whl (194 kB)\n",
            "\u001b[2K     \u001b[90m━━━━━━━━━━━━━━━━━━━━━━━━━━━━━━━━━━━━━━━━\u001b[0m \u001b[32m194.7/194.7 kB\u001b[0m \u001b[31m3.6 MB/s\u001b[0m eta \u001b[36m0:00:00\u001b[0m\n",
            "\u001b[?25hCollecting slack-sdk<4,>=3.25.0 (from slack_bolt)\n",
            "  Downloading slack_sdk-3.27.1-py2.py3-none-any.whl (285 kB)\n",
            "\u001b[2K     \u001b[90m━━━━━━━━━━━━━━━━━━━━━━━━━━━━━━━━━━━━━━━━\u001b[0m \u001b[32m285.7/285.7 kB\u001b[0m \u001b[31m8.7 MB/s\u001b[0m eta \u001b[36m0:00:00\u001b[0m\n",
            "\u001b[?25hInstalling collected packages: slack-sdk, slack_bolt\n",
            "Successfully installed slack-sdk-3.27.1 slack_bolt-1.18.1\n"
          ]
        }
      ],
      "source": [
        "!pip install slack_bolt"
      ]
    },
    {
      "cell_type": "code",
      "execution_count": null,
      "metadata": {
        "colab": {
          "base_uri": "https://localhost:8080/"
        },
        "id": "f38t_WNM2_iQ",
        "outputId": "80029165-b524-40c1-df53-18ccca11c77d"
      },
      "outputs": [
        {
          "name": "stdout",
          "output_type": "stream",
          "text": [
            "Collecting schemas\n",
            "  Downloading schemas-0.7.1.tar.gz (2.4 kB)\n",
            "  Preparing metadata (setup.py) ... \u001b[?25l\u001b[?25hdone\n",
            "Collecting functions (from schemas)\n",
            "  Downloading functions-0.7.0.tar.gz (2.7 kB)\n",
            "  Preparing metadata (setup.py) ... \u001b[?25l\u001b[?25hdone\n",
            "Requirement already satisfied: pytest in /usr/local/lib/python3.10/dist-packages (from schemas) (7.4.4)\n",
            "Requirement already satisfied: iniconfig in /usr/local/lib/python3.10/dist-packages (from pytest->schemas) (2.0.0)\n",
            "Requirement already satisfied: packaging in /usr/local/lib/python3.10/dist-packages (from pytest->schemas) (24.0)\n",
            "Requirement already satisfied: pluggy<2.0,>=0.12 in /usr/local/lib/python3.10/dist-packages (from pytest->schemas) (1.4.0)\n",
            "Requirement already satisfied: exceptiongroup>=1.0.0rc8 in /usr/local/lib/python3.10/dist-packages (from pytest->schemas) (1.2.0)\n",
            "Requirement already satisfied: tomli>=1.0.0 in /usr/local/lib/python3.10/dist-packages (from pytest->schemas) (2.0.1)\n",
            "Building wheels for collected packages: schemas, functions\n",
            "  Building wheel for schemas (setup.py) ... \u001b[?25l\u001b[?25hdone\n",
            "  Created wheel for schemas: filename=schemas-0.7.1-py3-none-any.whl size=2753 sha256=5f86b213cc4f0be6f632a0dd350c46bb30c16607d3170997c3c6396e5718f07b\n",
            "  Stored in directory: /root/.cache/pip/wheels/e4/09/93/4aea8059277d05a08c126a8134fab84d74c5b789287bae8836\n",
            "  Building wheel for functions (setup.py) ... \u001b[?25l\u001b[?25hdone\n",
            "  Created wheel for functions: filename=functions-0.7.0-py3-none-any.whl size=3036 sha256=5ca94ab0e3711db8763bd273f9056814e3d297c95627807669ba633cf09fcc33\n",
            "  Stored in directory: /root/.cache/pip/wheels/92/90/bc/01eb2f163bcfa49c7ad5072fbe9d243038368b9001ec26a9da\n",
            "Successfully built schemas functions\n",
            "Installing collected packages: functions, schemas\n",
            "Successfully installed functions-0.7.0 schemas-0.7.1\n"
          ]
        }
      ],
      "source": [
        "!pip install schemas"
      ]
    },
    {
      "cell_type": "code",
      "execution_count": null,
      "metadata": {
        "colab": {
          "base_uri": "https://localhost:8080/",
          "height": 245
        },
        "id": "Q7i2L6MXz5AT",
        "outputId": "6302e529-6ad9-40e5-c4fa-9d36883c4772"
      },
      "outputs": [
        {
          "ename": "SyntaxError",
          "evalue": "Missing parentheses in call to 'print'. Did you mean print(...)? (__init__.py, line 79)",
          "output_type": "error",
          "traceback": [
            "Traceback \u001b[0;36m(most recent call last)\u001b[0m:\n",
            "  File \u001b[1;32m\"/usr/local/lib/python3.10/dist-packages/IPython/core/interactiveshell.py\"\u001b[0m, line \u001b[1;32m3553\u001b[0m, in \u001b[1;35mrun_code\u001b[0m\n    exec(code_obj, self.user_global_ns, self.user_ns)\n",
            "\u001b[0;36m  File \u001b[0;32m\"<ipython-input-6-cf69fc79a610>\"\u001b[0;36m, line \u001b[0;32m6\u001b[0;36m, in \u001b[0;35m<cell line: 6>\u001b[0;36m\u001b[0m\n\u001b[0;31m    from schemas.slack_schemas import SlackMention, SlackMessage\u001b[0m\n",
            "\u001b[0;36m  File \u001b[0;32m\"/usr/local/lib/python3.10/dist-packages/schemas/__init__.py\"\u001b[0;36m, line \u001b[0;32m79\u001b[0m\n\u001b[0;31m    print \"Schema violation for key '{0}' and value '{1}'\".format(k, v)\u001b[0m\n\u001b[0m    ^\u001b[0m\n\u001b[0;31mSyntaxError\u001b[0m\u001b[0;31m:\u001b[0m Missing parentheses in call to 'print'. Did you mean print(...)?\n"
          ]
        }
      ],
      "source": [
        "from logging import Logger\n",
        "from typing import Any, Dict, List\n",
        "import time\n",
        "from slack_bolt import Say\n",
        "\n",
        "from schemas.slack_schemas import SlackMention, SlackMessage\n",
        "\n",
        "from client.client import request as client_req\n",
        "from config import BACKEND_BASE_URL\n",
        "\n",
        "\n",
        "async def thread_handler(\n",
        "    context_messages: List[Dict[str, Any]],\n",
        "    say: Say,\n",
        "    logger: Logger,\n",
        "    mention: bool = False,\n",
        ") -> None:\n",
        "    \"\"\"Handle a message in a thread\"\"\"\n",
        "    print(\"thread_handler\")\n",
        "    print(context_messages)\n",
        "    # print(body.event.blocks)\n",
        "    # logger.info(body)\n",
        "    # await say(\n",
        "    #     \"What's up?\"\n",
        "    # )  # Use say.__call__ to avoid the type checker complaining about the missing thread_ts argument\n",
        "    message: str = \"\"\n",
        "\n",
        "    print(\"Context messages = \", context_messages)\n",
        "    if len(context_messages) == 1:\n",
        "        # message = (\n",
        "        #     f\"Detected a single message in a thread: {context_messages[0]['text']}\"\n",
        "        # )\n",
        "        message = await client_req(\n",
        "            method=\"POST\", endpoint=\"/maya/reply\", data={\"context\": context_messages}\n",
        "        )\n",
        "    elif len(context_messages) > 1:\n",
        "        # message = f\"Detected {len(context_messages)} messages in the thread: {list(map(lambda x: x['text'], context_messages))}\"\n",
        "        message = await client_req(\n",
        "            method=\"POST\", endpoint=\"/maya/reply\", data={\"context\": context_messages}\n",
        "        )\n",
        "\n",
        "    message = message.get(\"message\", \"Sorry, I didn't get that.\")\n",
        "\n",
        "    if mention or len(context_messages) > 1:\n",
        "        # TODO: Write a function to send request to an endpoint that indexes messages in the core platform\n",
        "        ...\n",
        "\n",
        "    # NOTE: Log the messages to the logging endpoint in the core.\n",
        "    await client_req(\n",
        "        endpoint=\"/logs/slack\",\n",
        "        method=\"POST\",\n",
        "        data=[\n",
        "            {\n",
        "                \"assistant\": \"Maya\",\n",
        "                \"timestamp\": time.time(),\n",
        "                \"operations_data\": {\n",
        "                    \"context\": context_messages,\n",
        "                    \"bot_reply\": message,\n",
        "                    \"timestamp\": context_messages[0][\"ts\"],\n",
        "                    \"workspace_id\": context_messages[0][\"team_id\"],\n",
        "                    \"channel\": context_messages[0][\"event\"][\"channel\"],\n",
        "                    \"is_bot_mentioned\": mention,\n",
        "                },\n",
        "            },\n",
        "        ],\n",
        "    )\n",
        "\n",
        "    await say(\n",
        "        message,\n",
        "        # NOTE: If there is a message in a thread, we need to reply to the thread, else we create a thread by replying to the channel message\n",
        "        thread_ts=context_messages[0].get(\"thread_ts\", context_messages[0].get(\"ts\")),\n",
        "    )"
      ]
    },
    {
      "cell_type": "code",
      "execution_count": null,
      "metadata": {
        "id": "DoP8iMCx29F2"
      },
      "outputs": [],
      "source": []
    }
  ],
  "metadata": {
    "colab": {
      "provenance": []
    },
    "kernelspec": {
      "display_name": "Python 3",
      "name": "python3"
    },
    "language_info": {
      "name": "python"
    }
  },
  "nbformat": 4,
  "nbformat_minor": 0
}
